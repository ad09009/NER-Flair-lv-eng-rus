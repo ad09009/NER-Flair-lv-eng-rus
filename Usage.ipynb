{
 "cells": [
  {
   "cell_type": "code",
   "execution_count": 1,
   "metadata": {},
   "outputs": [],
   "source": [
    "from flair.models import SequenceTagger\n",
    "from flair.data import Sentence"
   ]
  },
  {
   "cell_type": "code",
   "execution_count": 2,
   "metadata": {},
   "outputs": [],
   "source": [
    "# Paths\n",
    "\n",
    "# all folder paths need to be extended with drive location when running on google drive\n",
    "#drive_path = 'drive/MyDrive/'\n",
    "\n",
    "lv_data_folder = 'resources/taggers/lv-ner-flair-edit'\n",
    "rus_data_folder = 'resources/taggers/rus-ner-flair-edit'\n",
    "eng_data_folder = 'resources/taggers/eng-ner-flair-edit'\n",
    "\n",
    "eng_corpus_base_path = 'resources/tasks'\n",
    "\n",
    "lv_model_path = lv_data_folder + '/final-model.pt'\n",
    "eng_model_path = eng_data_folder + '/final-model.pt'\n",
    "rus_model_path = rus_data_folder + '/final-model.pt'"
   ]
  },
  {
   "cell_type": "code",
   "execution_count": null,
   "metadata": {},
   "outputs": [],
   "source": [
    "# Load the trained models\n",
    "# Make sure you've downloaded them before and placed them in the correct folder\n",
    "bestmodellv = SequenceTagger.load(lv_model_path)\n",
    "bestmodelrus = SequenceTagger.load(rus_model_path)\n",
    "bestmodel = SequenceTagger.load(eng_model_path)"
   ]
  },
  {
   "cell_type": "code",
   "execution_count": null,
   "metadata": {},
   "outputs": [],
   "source": [
    "# Provide sample sentences\n",
    "\n",
    "sample_rus = Sentence(\"Симоновский районный суд Москвы заменил Любови Соболь условные исправительные работы по «квартирному делу» на реальные, Об этом сообщил ее адвокат Владимир Воронин.\")\n",
    "sample_eng = Sentence('''The \"media nuns\" of the Daughters of St Paul in Boston, London imam Sabah Ahmedi, and Orthodox Jewish influencer Melinda Strauss from Long Island are among those making an impact.''')\n",
    "sample_lv = Sentence(\"Šajā turnīrā Latvijas izlases galvenā trenera Harija Vītoliņa asistentu lomā ir Artis Ābols un Viktors Ignatjevs, par fizisko sagatavotību rūpējas Ēriks Visockis, bet video trenera pienākumu pilda Pēteris Groms.\")"
   ]
  },
  {
   "cell_type": "code",
   "execution_count": null,
   "metadata": {},
   "outputs": [],
   "source": [
    "bestmodellv.predict(sample_lv)\n",
    "print(sample_lv)\n",
    "for entity in sample_lv.get_spans():\n",
    "    print(entity)"
   ]
  },
  {
   "cell_type": "code",
   "execution_count": null,
   "metadata": {},
   "outputs": [],
   "source": [
    "bestmodelrus.predict(sample_rus)\n",
    "print(sample_rus)\n",
    "for entity in sample_rus.get_spans():\n",
    "    print(entity)"
   ]
  },
  {
   "cell_type": "code",
   "execution_count": null,
   "metadata": {},
   "outputs": [],
   "source": [
    "bestmodel.predict(sample_eng)\n",
    "print(sample_eng)\n",
    "for entity in sample_eng.get_spans():\n",
    "    print(entity)"
   ]
  }
 ],
 "metadata": {
  "kernelspec": {
   "display_name": "Python 3 (ipykernel)",
   "language": "python",
   "name": "python3"
  },
  "language_info": {
   "codemirror_mode": {
    "name": "ipython",
    "version": 3
   },
   "file_extension": ".py",
   "mimetype": "text/x-python",
   "name": "python",
   "nbconvert_exporter": "python",
   "pygments_lexer": "ipython3",
   "version": "3.8.10"
  }
 },
 "nbformat": 4,
 "nbformat_minor": 4
}
